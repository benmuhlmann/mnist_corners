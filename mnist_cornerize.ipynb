{
 "cells": [
  {
   "cell_type": "markdown",
   "metadata": {},
   "source": [
    "### Idea: generate a process to downsample mnist 0's from 28x28 to 14x14, then place the downsampled image in a random corner of a black image"
   ]
  },
  {
   "cell_type": "code",
   "execution_count": 4,
   "metadata": {},
   "outputs": [],
   "source": [
    "%matplotlib inline"
   ]
  },
  {
   "cell_type": "code",
   "execution_count": 5,
   "metadata": {},
   "outputs": [],
   "source": [
    "from PIL import Image\n",
    "import os\n",
    "import matplotlib.pyplot as plt\n",
    "import numpy as np\n",
    "import copy\n",
    "\n",
    "my_cmap='gray'"
   ]
  },
  {
   "cell_type": "markdown",
   "metadata": {},
   "source": [
    "#### Grab and plot a zero"
   ]
  },
  {
   "cell_type": "code",
   "execution_count": 6,
   "metadata": {},
   "outputs": [
    {
     "data": {
      "image/png": "[encoded data removed]",
      "text/plain": [
       "<Figure size 432x288 with 1 Axes>"
      ]
     },
     "metadata": {},
     "output_type": "display_data"
    }
   ],
   "source": [
    "image_path='..\\Downloads/mnistasjpg/trainingSet/trainingSet/0'\n",
    "image_file=os.listdir(image_path)[200]\n",
    "\n",
    "im=Image.open(os.path.join(image_path,image_file))\n",
    "zero=np.asarray(im)\n",
    "plt.imshow(zero,cmap=my_cmap);\n",
    "\n",
    "#note: the semicolon after plotting suppresses matplotlib's axes output"
   ]
  },
  {
   "cell_type": "markdown",
   "metadata": {},
   "source": [
    "#### Plot each quadrant of the original image separately to demonstrate slicing"
   ]
  },
  {
   "cell_type": "code",
   "execution_count": 7,
   "metadata": {},
   "outputs": [
    {
     "data": {
      "image/png": "[encoded data removed]",
      "text/plain": [
       "<Figure size 432x288 with 4 Axes>"
      ]
     },
     "metadata": {},
     "output_type": "display_data"
    }
   ],
   "source": [
    "fig,ax=plt.subplots(2,2)\n",
    "fig.subplots_adjust(hspace=0.1, wspace=-0.45)\n",
    "ax[0,0].imshow(zero[0:14,0:14])\n",
    "ax[0,1].imshow(zero[0:14,14:])\n",
    "ax[1,0].imshow(zero[14:,0:14])\n",
    "ax[1,1].imshow(zero[14:,14:])\n",
    "\n",
    "[[ax[i,j].axis('off') for i in range(2)] for j in range(2)];\n",
    "\n"
   ]
  },
  {
   "cell_type": "code",
   "execution_count": 8,
   "metadata": {
    "scrolled": false
   },
   "outputs": [
    {
     "data": {
      "image/png": "[encoded data removed]",
      "text/plain": [
       "<Figure size 432x288 with 1 Axes>"
      ]
     },
     "metadata": {},
     "output_type": "display_data"
    },
    {
     "data": {
      "image/png": "[encoded data removed]",
      "text/plain": [
       "<Figure size 432x288 with 1 Axes>"
      ]
     },
     "metadata": {},
     "output_type": "display_data"
    },
    {
     "data": {
      "image/png": "[encoded data removed]",
      "text/plain": [
       "<Figure size 432x288 with 1 Axes>"
      ]
     },
     "metadata": {},
     "output_type": "display_data"
    }
   ],
   "source": [
    "#Generate black image\n",
    "black_image=np.reshape(np.zeros(28*28),(28,28))\n",
    "plt.figure()\n",
    "plt.imshow(black_image,cmap=my_cmap);\n",
    "\n",
    "#downsize original zero\n",
    "plt.figure()\n",
    "im_small=im.resize((14,14))\n",
    "zero_small=np.asarray(im_small)\n",
    "plt.imshow(np.asarray(im_small),cmap=my_cmap);\n",
    "\n",
    "#put small zero in corner\n",
    "corner_zero=copy.deepcopy(black_image)\n",
    "corner_zero[0:14,0:14]=zero_small\n",
    "plt.figure()\n",
    "plt.imshow(corner_zero,cmap=my_cmap);"
   ]
  },
  {
   "cell_type": "markdown",
   "metadata": {},
   "source": [
    "#### Now let's make the 'cornerization'  random"
   ]
  },
  {
   "cell_type": "code",
   "execution_count": 9,
   "metadata": {},
   "outputs": [
    {
     "name": "stdout",
     "output_type": "stream",
     "text": [
      "0.3501561447083906\n"
     ]
    },
    {
     "data": {
      "image/png": "[encoded data removed]",
      "text/plain": [
       "<Figure size 432x288 with 1 Axes>"
      ]
     },
     "metadata": {},
     "output_type": "display_data"
    }
   ],
   "source": [
    "corner_zero=copy.deepcopy(black_image)\n",
    "u=np.random.uniform(0,1)\n",
    "if u<0.25:\n",
    "    corner_zero[0:14, 14:] = zero_small\n",
    "\n",
    "elif u<0.5:\n",
    "    corner_zero[0:14, 0:14] = zero_small\n",
    "\n",
    "elif u<0.75:\n",
    "    corner_zero[14:, 0:14] = zero_small\n",
    "\n",
    "else: \n",
    "    corner_zero[14:, 14:] = zero_small\n",
    "    \n",
    "plt.imshow(corner_zero,cmap=my_cmap)\n",
    "print(u)"
   ]
  },
  {
   "cell_type": "markdown",
   "metadata": {},
   "source": [
    "#### Now let's make it a function so we can randomly 'cornerize' any PIL image"
   ]
  },
  {
   "cell_type": "code",
   "execution_count": 10,
   "metadata": {},
   "outputs": [],
   "source": [
    "def cornerize(image):\n",
    "    np_image=np.asarray(image)\n",
    "\n",
    "    side_length=np_image.shape[0]\n",
    "    half_side=side_length//2\n",
    "    \n",
    "    small_image=image.resize((half_side, half_side))\n",
    "    small_image=np.asarray(small_image)\n",
    "    \n",
    "    black_image=np.reshape(np.zeros(side_length*side_length),(side_length,side_length))\n",
    "    \n",
    "    u=np.random.uniform(0,1)\n",
    "    \n",
    "    if u<0.25:\n",
    "        black_image[0:half_side, half_side:] = small_image\n",
    "\n",
    "    elif u<0.5:\n",
    "        black_image[0:half_side, 0:half_side] = small_image\n",
    "\n",
    "    elif u<0.75:\n",
    "        black_image[half_side:, 0:half_side] = small_image\n",
    "\n",
    "    else: \n",
    "        black_image[half_side:, half_side:] = small_image\n",
    "        \n",
    "    return black_image\n",
    "    "
   ]
  },
  {
   "cell_type": "code",
   "execution_count": 11,
   "metadata": {},
   "outputs": [
    {
     "data": {
      "image/png": "[encoded data removed]",
      "text/plain": [
       "<Figure size 432x288 with 1 Axes>"
      ]
     },
     "metadata": {},
     "output_type": "display_data"
    }
   ],
   "source": [
    "plt.imshow(cornerize(im), cmap=my_cmap);"
   ]
  }
 ],
 "metadata": {
  "kernelspec": {
   "display_name": "Python 3",
   "language": "python",
   "name": "python3"
  },
  "language_info": {
   "codemirror_mode": {
    "name": "ipython",
    "version": 3
   },
   "file_extension": ".py",
   "mimetype": "text/x-python",
   "name": "python",
   "nbconvert_exporter": "python",
   "pygments_lexer": "ipython3",
   "version": "3.6.10"
  }
 },
 "nbformat": 4,
 "nbformat_minor": 2
}
