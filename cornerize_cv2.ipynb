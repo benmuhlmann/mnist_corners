{
 "cells": [
  {
   "cell_type": "code",
   "execution_count": 38,
   "metadata": {},
   "outputs": [],
   "source": [
    "import cv2\n",
    "import os\n",
    "import matplotlib.pyplot as plt\n",
    "import numpy as np\n",
    "import copy"
   ]
  },
  {
   "cell_type": "code",
   "execution_count": 39,
   "metadata": {},
   "outputs": [],
   "source": [
    "image_path='../Downloads/mnistasjpg/trainingSet/trainingSet/0'\n",
    "image_file=os.listdir(image_path)[200]"
   ]
  },
  {
   "cell_type": "code",
   "execution_count": 40,
   "metadata": {},
   "outputs": [
    {
     "data": {
      "image/png": "[encoded data removed]",
      "text/plain": [
       "<Figure size 432x288 with 1 Axes>"
      ]
     },
     "metadata": {},
     "output_type": "display_data"
    }
   ],
   "source": [
    "im=cv2.imread(os.path.join(image_path,image_file),cv2.IMREAD_GRAYSCALE)\n",
    "plt.imshow(im);"
   ]
  },
  {
   "cell_type": "markdown",
   "metadata": {},
   "source": [
    "#### Rewrite the cornerize function for cv2 instead of PIL"
   ]
  },
  {
   "cell_type": "code",
   "execution_count": 41,
   "metadata": {},
   "outputs": [],
   "source": [
    "def cornerize(image):\n",
    "    \n",
    "    side_length=image.shape[0]\n",
    "    half_side=side_length//2\n",
    "    \n",
    "    small_image=cv2.resize(image,(half_side,half_side))\n",
    "    \n",
    "    black_image=np.reshape(np.zeros(side_length*side_length),(side_length,side_length))\n",
    "    \n",
    "    u=np.random.uniform(0,1)\n",
    "    \n",
    "    if u<0.25:\n",
    "        black_image[0:half_side, half_side:] = small_image\n",
    "\n",
    "    elif u<0.5:\n",
    "        black_image[0:half_side, 0:half_side] = small_image\n",
    "\n",
    "    elif u<0.75:\n",
    "        black_image[half_side:, 0:half_side] = small_image\n",
    "\n",
    "    else: \n",
    "        black_image[half_side:, half_side:] = small_image\n",
    "        \n",
    "    return black_image"
   ]
  },
  {
   "cell_type": "code",
   "execution_count": 48,
   "metadata": {},
   "outputs": [
    {
     "data": {
      "text/plain": [
       "<matplotlib.image.AxesImage at 0x1c393499588>"
      ]
     },
     "execution_count": 48,
     "metadata": {},
     "output_type": "execute_result"
    },
    {
     "data": {
      "image/png": "[encoded data removed]",
      "text/plain": [
       "<Figure size 432x288 with 1 Axes>"
      ]
     },
     "metadata": {},
     "output_type": "display_data"
    }
   ],
   "source": [
    "plt.imshow(cornerize(im))"
   ]
  }
 ],
 "metadata": {
  "kernelspec": {
   "display_name": "Python 3",
   "language": "python",
   "name": "python3"
  },
  "language_info": {
   "codemirror_mode": {
    "name": "ipython",
    "version": 3
   },
   "file_extension": ".py",
   "mimetype": "text/x-python",
   "name": "python",
   "nbconvert_exporter": "python",
   "pygments_lexer": "ipython3",
   "version": "3.6.10"
  }
 },
 "nbformat": 4,
 "nbformat_minor": 2
}
